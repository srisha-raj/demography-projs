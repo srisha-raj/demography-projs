{
  "nbformat": 4,
  "nbformat_minor": 0,
  "metadata": {
    "colab": {
      "provenance": []
    },
    "kernelspec": {
      "name": "python3",
      "display_name": "Python 3"
    },
    "language_info": {
      "name": "python"
    }
  },
  "cells": [
    {
      "cell_type": "markdown",
      "source": [
        "# Research Question: To what extent did China's One-Child Policy (1979) cause a drop in fertility?\n",
        "\n",
        "### PART 1: A comparative demographic study to Vietnam and South Korea\n",
        "\n",
        "#### Authored By: Srisha Raj\n",
        "#### Data Source: World Bank Group, [Fertility rate, total (births per woman)](https://data.worldbank.org/indicator/SP.DYN.TFRT.IN)\n"
      ],
      "metadata": {
        "id": "RJ9BKoVGYCaq"
      }
    },
    {
      "cell_type": "markdown",
      "source": [
        "## Step 1: Load Data"
      ],
      "metadata": {
        "id": "zYfdcTHNPw_t"
      }
    },
    {
      "cell_type": "code",
      "execution_count": 2,
      "metadata": {
        "id": "_rMkclmCPIrq"
      },
      "outputs": [],
      "source": [
        "#import packages\n",
        "import pandas as pd\n",
        "import numpy as np\n",
        "from matplotlib import pyplot as plt\n",
        "import seaborn as sns\n",
        "import matplotlib.ticker as plticker\n"
      ]
    },
    {
      "cell_type": "code",
      "source": [
        "df_raw = pd.read_csv('API_SP.DYN.TFRT.IN_DS2_en_csv_v2_123473.csv', skiprows=4)"
      ],
      "metadata": {
        "id": "15REIh8UPUgj"
      },
      "execution_count": 4,
      "outputs": []
    },
    {
      "cell_type": "code",
      "source": [
        "from google.colab import drive\n",
        "drive.mount('/content/drive')"
      ],
      "metadata": {
        "id": "3ARIi1sqcyES",
        "colab": {
          "base_uri": "https://localhost:8080/"
        },
        "outputId": "0c0bd2de-4b50-4eab-fbf8-ddc9205bd503"
      },
      "execution_count": 5,
      "outputs": [
        {
          "output_type": "stream",
          "name": "stdout",
          "text": [
            "Drive already mounted at /content/drive; to attempt to forcibly remount, call drive.mount(\"/content/drive\", force_remount=True).\n"
          ]
        }
      ]
    },
    {
      "cell_type": "code",
      "source": [
        "#creating sub-dataframes by country\n",
        "\n",
        "china_df_raw = df_raw[df_raw[\"Country Name\"] == \"China\"]\n",
        "vietnam_df_raw = df_raw[df_raw[\"Country Name\"] == \"Viet Nam\"]\n",
        "south_korea_df_raw = df_raw[df_raw[\"Country Name\"] == \"Korea, Rep.\"]\n",
        "south_korea_df_raw.head(2)"
      ],
      "metadata": {
        "colab": {
          "base_uri": "https://localhost:8080/",
          "height": 200
        },
        "id": "NaPdvXQAP6fn",
        "outputId": "5264e721-b979-4dc0-e5d0-bdc2211ccfbb"
      },
      "execution_count": 8,
      "outputs": [
        {
          "output_type": "execute_result",
          "data": {
            "text/plain": [
              "    Country Name Country Code                            Indicator Name  \\\n",
              "126  Korea, Rep.          KOR  Fertility rate, total (births per woman)   \n",
              "\n",
              "     Indicator Code   1960   1961   1962   1963   1964   1965  ...   2016  \\\n",
              "126  SP.DYN.TFRT.IN  5.994  5.803  5.562  5.334  5.068  4.887  ...  1.172   \n",
              "\n",
              "      2017   2018   2019   2020   2021   2022   2023  2024  Unnamed: 69  \n",
              "126  1.052  0.977  0.918  0.837  0.808  0.778  0.721   NaN          NaN  \n",
              "\n",
              "[1 rows x 70 columns]"
            ],
            "text/html": [
              "\n",
              "  <div id=\"df-0a59bc38-824f-4c5f-b12a-daa9e26055d9\" class=\"colab-df-container\">\n",
              "    <div>\n",
              "<style scoped>\n",
              "    .dataframe tbody tr th:only-of-type {\n",
              "        vertical-align: middle;\n",
              "    }\n",
              "\n",
              "    .dataframe tbody tr th {\n",
              "        vertical-align: top;\n",
              "    }\n",
              "\n",
              "    .dataframe thead th {\n",
              "        text-align: right;\n",
              "    }\n",
              "</style>\n",
              "<table border=\"1\" class=\"dataframe\">\n",
              "  <thead>\n",
              "    <tr style=\"text-align: right;\">\n",
              "      <th></th>\n",
              "      <th>Country Name</th>\n",
              "      <th>Country Code</th>\n",
              "      <th>Indicator Name</th>\n",
              "      <th>Indicator Code</th>\n",
              "      <th>1960</th>\n",
              "      <th>1961</th>\n",
              "      <th>1962</th>\n",
              "      <th>1963</th>\n",
              "      <th>1964</th>\n",
              "      <th>1965</th>\n",
              "      <th>...</th>\n",
              "      <th>2016</th>\n",
              "      <th>2017</th>\n",
              "      <th>2018</th>\n",
              "      <th>2019</th>\n",
              "      <th>2020</th>\n",
              "      <th>2021</th>\n",
              "      <th>2022</th>\n",
              "      <th>2023</th>\n",
              "      <th>2024</th>\n",
              "      <th>Unnamed: 69</th>\n",
              "    </tr>\n",
              "  </thead>\n",
              "  <tbody>\n",
              "    <tr>\n",
              "      <th>126</th>\n",
              "      <td>Korea, Rep.</td>\n",
              "      <td>KOR</td>\n",
              "      <td>Fertility rate, total (births per woman)</td>\n",
              "      <td>SP.DYN.TFRT.IN</td>\n",
              "      <td>5.994</td>\n",
              "      <td>5.803</td>\n",
              "      <td>5.562</td>\n",
              "      <td>5.334</td>\n",
              "      <td>5.068</td>\n",
              "      <td>4.887</td>\n",
              "      <td>...</td>\n",
              "      <td>1.172</td>\n",
              "      <td>1.052</td>\n",
              "      <td>0.977</td>\n",
              "      <td>0.918</td>\n",
              "      <td>0.837</td>\n",
              "      <td>0.808</td>\n",
              "      <td>0.778</td>\n",
              "      <td>0.721</td>\n",
              "      <td>NaN</td>\n",
              "      <td>NaN</td>\n",
              "    </tr>\n",
              "  </tbody>\n",
              "</table>\n",
              "<p>1 rows × 70 columns</p>\n",
              "</div>\n",
              "    <div class=\"colab-df-buttons\">\n",
              "\n",
              "  <div class=\"colab-df-container\">\n",
              "    <button class=\"colab-df-convert\" onclick=\"convertToInteractive('df-0a59bc38-824f-4c5f-b12a-daa9e26055d9')\"\n",
              "            title=\"Convert this dataframe to an interactive table.\"\n",
              "            style=\"display:none;\">\n",
              "\n",
              "  <svg xmlns=\"http://www.w3.org/2000/svg\" height=\"24px\" viewBox=\"0 -960 960 960\">\n",
              "    <path d=\"M120-120v-720h720v720H120Zm60-500h600v-160H180v160Zm220 220h160v-160H400v160Zm0 220h160v-160H400v160ZM180-400h160v-160H180v160Zm440 0h160v-160H620v160ZM180-180h160v-160H180v160Zm440 0h160v-160H620v160Z\"/>\n",
              "  </svg>\n",
              "    </button>\n",
              "\n",
              "  <style>\n",
              "    .colab-df-container {\n",
              "      display:flex;\n",
              "      gap: 12px;\n",
              "    }\n",
              "\n",
              "    .colab-df-convert {\n",
              "      background-color: #E8F0FE;\n",
              "      border: none;\n",
              "      border-radius: 50%;\n",
              "      cursor: pointer;\n",
              "      display: none;\n",
              "      fill: #1967D2;\n",
              "      height: 32px;\n",
              "      padding: 0 0 0 0;\n",
              "      width: 32px;\n",
              "    }\n",
              "\n",
              "    .colab-df-convert:hover {\n",
              "      background-color: #E2EBFA;\n",
              "      box-shadow: 0px 1px 2px rgba(60, 64, 67, 0.3), 0px 1px 3px 1px rgba(60, 64, 67, 0.15);\n",
              "      fill: #174EA6;\n",
              "    }\n",
              "\n",
              "    .colab-df-buttons div {\n",
              "      margin-bottom: 4px;\n",
              "    }\n",
              "\n",
              "    [theme=dark] .colab-df-convert {\n",
              "      background-color: #3B4455;\n",
              "      fill: #D2E3FC;\n",
              "    }\n",
              "\n",
              "    [theme=dark] .colab-df-convert:hover {\n",
              "      background-color: #434B5C;\n",
              "      box-shadow: 0px 1px 3px 1px rgba(0, 0, 0, 0.15);\n",
              "      filter: drop-shadow(0px 1px 2px rgba(0, 0, 0, 0.3));\n",
              "      fill: #FFFFFF;\n",
              "    }\n",
              "  </style>\n",
              "\n",
              "    <script>\n",
              "      const buttonEl =\n",
              "        document.querySelector('#df-0a59bc38-824f-4c5f-b12a-daa9e26055d9 button.colab-df-convert');\n",
              "      buttonEl.style.display =\n",
              "        google.colab.kernel.accessAllowed ? 'block' : 'none';\n",
              "\n",
              "      async function convertToInteractive(key) {\n",
              "        const element = document.querySelector('#df-0a59bc38-824f-4c5f-b12a-daa9e26055d9');\n",
              "        const dataTable =\n",
              "          await google.colab.kernel.invokeFunction('convertToInteractive',\n",
              "                                                    [key], {});\n",
              "        if (!dataTable) return;\n",
              "\n",
              "        const docLinkHtml = 'Like what you see? Visit the ' +\n",
              "          '<a target=\"_blank\" href=https://colab.research.google.com/notebooks/data_table.ipynb>data table notebook</a>'\n",
              "          + ' to learn more about interactive tables.';\n",
              "        element.innerHTML = '';\n",
              "        dataTable['output_type'] = 'display_data';\n",
              "        await google.colab.output.renderOutput(dataTable, element);\n",
              "        const docLink = document.createElement('div');\n",
              "        docLink.innerHTML = docLinkHtml;\n",
              "        element.appendChild(docLink);\n",
              "      }\n",
              "    </script>\n",
              "  </div>\n",
              "\n",
              "\n",
              "    </div>\n",
              "  </div>\n"
            ],
            "application/vnd.google.colaboratory.intrinsic+json": {
              "type": "dataframe",
              "variable_name": "south_korea_df_raw"
            }
          },
          "metadata": {},
          "execution_count": 8
        }
      ]
    },
    {
      "cell_type": "markdown",
      "source": [
        "For time series data, **.melt** is used to unpivot a table so that we can get all the years as one variable!\n",
        "\n",
        "In this case, we want a column where it's just 'Year' and the corresponding Value would be 'Total Fertility Rate'.\n",
        "\n"
      ],
      "metadata": {
        "id": "WCoWmPMhQknO"
      }
    },
    {
      "cell_type": "code",
      "source": [
        "china_df = china_df_raw.melt(id_vars=[\"Country Name\", \"Country Code\", \"Indicator Name\", \"Indicator Code\"],\n",
        "        var_name=\"Year\",\n",
        "        value_name=\"Total Fertility Rate\").dropna(subset=[\"Total Fertility Rate\"])\n",
        "\n",
        "vietnam_df = vietnam_df_raw.melt(id_vars=[\"Country Name\", \"Country Code\", \"Indicator Name\", \"Indicator Code\"],\n",
        "        var_name=\"Year\",\n",
        "        value_name=\"Total Fertility Rate\").dropna(subset=[\"Total Fertility Rate\"])\n",
        "\n",
        "\n",
        "south_korea_df = south_korea_df_raw.melt(id_vars=[\"Country Name\", \"Country Code\", \"Indicator Name\", \"Indicator Code\"],\n",
        "        var_name=\"Year\",\n",
        "        value_name=\"Total Fertility Rate\").dropna(subset=[\"Total Fertility Rate\"])"
      ],
      "metadata": {
        "id": "j_BizgO3Qd7p"
      },
      "execution_count": 9,
      "outputs": []
    },
    {
      "cell_type": "code",
      "source": [
        "china_df[\"Year\"] = china_df[\"Year\"].astype(int)\n",
        "vietnam_df[\"Year\"] = vietnam_df[\"Year\"].astype(int)\n",
        "south_korea_df[\"Year\"] = south_korea_df[\"Year\"].astype(int)"
      ],
      "metadata": {
        "id": "PQYycFtXSAR8"
      },
      "execution_count": 11,
      "outputs": []
    },
    {
      "cell_type": "code",
      "source": [
        "#dataset will be the dataframe with all 3 subframes combined and standardized\n",
        "dataset = pd.concat([china_df, vietnam_df, south_korea_df], ignore_index=True)"
      ],
      "metadata": {
        "id": "uSRoqsdf1fem"
      },
      "execution_count": 12,
      "outputs": []
    },
    {
      "cell_type": "code",
      "source": [
        "dataset.to_csv(\"fertility_rates.csv\", index=False)"
      ],
      "metadata": {
        "id": "3MDndl_tdu0g"
      },
      "execution_count": 13,
      "outputs": []
    },
    {
      "cell_type": "markdown",
      "source": [
        "# Step 2: Exploratory Data Analysis"
      ],
      "metadata": {
        "id": "tEgJ3fjuWSS5"
      }
    },
    {
      "cell_type": "markdown",
      "source": [
        "### Side-by-Side Line Plot: China vs. Vietnam vs. South Korea"
      ],
      "metadata": {
        "id": "m2XNfCW6faaG"
      }
    },
    {
      "cell_type": "code",
      "source": [
        "plt.figure(figsize=(10, 6))\n",
        "\n",
        "loc = plticker.MultipleLocator(base=10)\n",
        "ax = plt.gca()\n",
        "\n",
        "sns.lineplot(data=south_korea_df, x=\"Year\", y=\"Total Fertility Rate\", ax=ax, label='South Korea', color='red')\n",
        "sns.lineplot(data=china_df, x=\"Year\", y=\"Total Fertility Rate\", ax=ax, label='China', color='blue')\n",
        "sns.lineplot(data=vietnam_df, x=\"Year\", y=\"Total Fertility Rate\", ax=ax, label='Vietnam', color='green')\n",
        "\n",
        "ax.xaxis.set_major_locator(loc)\n",
        "plt.title(\"Total Fertility Rate (1960–2021)\")\n",
        "plt.xlabel(\"Year\")\n",
        "plt.ylabel(\"Total Fertility Rate\")\n",
        "\n",
        "\n",
        "plt.legend()\n",
        "plt.tight_layout()\n",
        "plt.show()"
      ],
      "metadata": {
        "colab": {
          "base_uri": "https://localhost:8080/",
          "height": 527
        },
        "id": "dOHyeBaIfY6D",
        "outputId": "526eb613-2628-4896-9950-dd06e49eaef3"
      },
      "execution_count": 19,
      "outputs": [
        {
          "output_type": "display_data",
          "data": {
            "text/plain": [
              "<Figure size 1000x600 with 1 Axes>"
            ],
            "image/png": "[encoded data removed]"
          },
          "metadata": {}
        }
      ]
    },
    {
      "cell_type": "markdown",
      "source": [
        "#Step 3: OLS Regression Model for DiD (Differences in Differences)\n",
        "\n",
        "\n"
      ],
      "metadata": {
        "id": "WrmYE4sQX0NS"
      }
    },
    {
      "cell_type": "code",
      "source": [
        "import statsmodels.api as sm\n",
        "#Both Time Series trends looks like exponential decay, so use log transformation and moving averages for OLS"
      ],
      "metadata": {
        "id": "wPe78dl0X9Ax"
      },
      "execution_count": 20,
      "outputs": []
    },
    {
      "cell_type": "code",
      "source": [
        "#[insert country name]_df_USE for simpler OLS model\n",
        "china_df_USE = china_df[[\"Country Name\", \"Year\",\"Total Fertility Rate\"]]\n",
        "vietnam_df_USE = vietnam_df[[\"Country Name\", \"Year\",\"Total Fertility Rate\"]]\n",
        "south_korea_df_USE = south_korea_df[[\"Country Name\", \"Year\",\"Total Fertility Rate\"]]"
      ],
      "metadata": {
        "id": "MlLuN4VPWsES"
      },
      "execution_count": 22,
      "outputs": []
    },
    {
      "cell_type": "markdown",
      "source": [
        "# Time Series Smoothing Technique: Moving Averages\n",
        "\n"
      ],
      "metadata": {
        "id": "dPRETQXLWs7A"
      }
    },
    {
      "cell_type": "markdown",
      "source": [
        "## **1. CHINA**"
      ],
      "metadata": {
        "id": "0W-chncmYP6Z"
      }
    },
    {
      "cell_type": "code",
      "source": [
        "#china_df_exp will be used for experimental purposes; china_df_exp operates similarly to china_df_USE (First Five rows dropped)\n",
        "china_df_exp=china_df_USE.copy()\n",
        "\n",
        "china_df_exp[\"ma_Fertility\"] = china_df_exp[\"Total Fertility Rate\"].rolling(window=5).mean()\n",
        "china_df_exp = china_df_exp.dropna()"
      ],
      "metadata": {
        "id": "p3d27v9VWz7Y"
      },
      "execution_count": 38,
      "outputs": []
    },
    {
      "cell_type": "code",
      "source": [
        "# @title China: Year vs TFR and Moving Average (TFR)\n",
        "\n",
        "plt.figure(figsize=(10, 6))\n",
        "\n",
        "loc = plticker.MultipleLocator(base=10)\n",
        "ax = plt.gca()\n",
        "\n",
        "sns.lineplot(data=china_df_exp, x=\"Year\", y=\"Total Fertility Rate\", ax=ax, label='Total Fertility Rate', color='red')\n",
        "sns.lineplot(data=china_df_exp, x=\"Year\", y=\"ma_Fertility\", ax=ax, label='Moving Averages Fertility, by week', color='blue')\n",
        "\n",
        "ax.xaxis.set_major_locator(loc)\n",
        "plt.title(\"China: Year vs TFR and Moving Averages (1965–2023)\")\n",
        "plt.xlabel(\"Year\")\n",
        "plt.ylabel(\"Total Fertility Rate\")\n",
        "\n",
        "\n",
        "plt.legend()\n",
        "plt.tight_layout()\n",
        "plt.show()"
      ],
      "metadata": {
        "colab": {
          "base_uri": "https://localhost:8080/",
          "height": 527
        },
        "id": "4hCTrE5NY1Uq",
        "outputId": "c4e3724c-42da-45d2-85ef-97bacb196b0c"
      },
      "execution_count": 39,
      "outputs": [
        {
          "output_type": "display_data",
          "data": {
            "text/plain": [
              "<Figure size 1000x600 with 1 Axes>"
            ],
            "image/png": "[encoded data removed]"
          },
          "metadata": {}
        }
      ]
    },
    {
      "cell_type": "markdown",
      "source": [
        "Here we observe that using Moving Averages, the graph is not as sensitive to noise, and thus the trend is not overfitting as much. We will repeat this process for the other two countries."
      ],
      "metadata": {
        "id": "QyTm4ISmTSUr"
      }
    },
    {
      "cell_type": "markdown",
      "source": [
        "## **2. Vietnam**"
      ],
      "metadata": {
        "id": "TYwuYCcOakJg"
      }
    },
    {
      "cell_type": "code",
      "source": [
        "#vietnam_df_exp will be used for experimental purposes; vietnam_df_exp operates similarly to vietnam_df_USE (First Five rows dropped)\n",
        "vietnam_df_exp=vietnam_df_USE.copy()\n",
        "\n",
        "vietnam_df_exp[\"ma_Fertility\"] = vietnam_df_exp[\"Total Fertility Rate\"].rolling(window=5).mean()\n",
        "vietnam_df_exp = vietnam_df_exp.dropna()"
      ],
      "metadata": {
        "id": "zfoR4L_Lajcx"
      },
      "execution_count": 41,
      "outputs": []
    },
    {
      "cell_type": "markdown",
      "source": [
        "## **3. South Korea**"
      ],
      "metadata": {
        "id": "40nDBMPzUg00"
      }
    },
    {
      "cell_type": "code",
      "source": [
        "#south_korea_df_exp will be used for experimental purposes; south_korea_df_exp operates similarly to south_korea_df_USE (First Five rows dropped)\n",
        "south_korea_df_exp=south_korea_df_USE.copy()\n",
        "\n",
        "south_korea_df_exp[\"ma_Fertility\"] = south_korea_df_exp[\"Total Fertility Rate\"].rolling(window=5).mean()\n",
        "south_korea_df_exp = south_korea_df_exp.dropna()"
      ],
      "metadata": {
        "id": "vZFZhazDUiwh"
      },
      "execution_count": 54,
      "outputs": []
    },
    {
      "cell_type": "markdown",
      "source": [
        "# DiD Variable Definitions - Experiment 1: Vietnam as counterfactual\n",
        "\n",
        "\n",
        "*   TREATMENT: Whether Country is China (1) or Vietnam (0)\n",
        "*   POST: Pre or Post Policy (1979)\n",
        "*   DiD: Interaction Term based on if policy has been enacted in China"
      ],
      "metadata": {
        "id": "Ns80hlYRc4Pm"
      }
    },
    {
      "cell_type": "code",
      "source": [
        "combined_df_v = pd.concat([china_df_exp, vietnam_df_exp], ignore_index=True).sort_values(by=\"Year\").set_index(\"Year\").reset_index()\n",
        "combined_df_v[\"log_Fertility\"] = np.log(combined_df_v[\"Total Fertility Rate\"])\n",
        "combined_df_v.head(4)"
      ],
      "metadata": {
        "colab": {
          "base_uri": "https://localhost:8080/",
          "height": 175
        },
        "id": "ZXyTZaWDZpvt",
        "outputId": "f6a7bf4b-ffc8-4b50-bed0-5cc4fe479a23"
      },
      "execution_count": 28,
      "outputs": [
        {
          "output_type": "execute_result",
          "data": {
            "text/plain": [
              "   Year Country Name  Total Fertility Rate  ma_Fertility  log_Fertility\n",
              "0  1964        China                 6.672        5.7168       1.897920\n",
              "1  1964     Viet Nam                 6.285        6.1352       1.838166\n",
              "2  1965     Viet Nam                 6.156        6.1118       1.817427\n",
              "3  1965        China                 6.605        6.1476       1.887827"
            ],
            "text/html": [
              "\n",
              "  <div id=\"df-d6f7e083-6ee3-4e36-a75e-a8c78be7c865\" class=\"colab-df-container\">\n",
              "    <div>\n",
              "<style scoped>\n",
              "    .dataframe tbody tr th:only-of-type {\n",
              "        vertical-align: middle;\n",
              "    }\n",
              "\n",
              "    .dataframe tbody tr th {\n",
              "        vertical-align: top;\n",
              "    }\n",
              "\n",
              "    .dataframe thead th {\n",
              "        text-align: right;\n",
              "    }\n",
              "</style>\n",
              "<table border=\"1\" class=\"dataframe\">\n",
              "  <thead>\n",
              "    <tr style=\"text-align: right;\">\n",
              "      <th></th>\n",
              "      <th>Year</th>\n",
              "      <th>Country Name</th>\n",
              "      <th>Total Fertility Rate</th>\n",
              "      <th>ma_Fertility</th>\n",
              "      <th>log_Fertility</th>\n",
              "    </tr>\n",
              "  </thead>\n",
              "  <tbody>\n",
              "    <tr>\n",
              "      <th>0</th>\n",
              "      <td>1964</td>\n",
              "      <td>China</td>\n",
              "      <td>6.672</td>\n",
              "      <td>5.7168</td>\n",
              "      <td>1.897920</td>\n",
              "    </tr>\n",
              "    <tr>\n",
              "      <th>1</th>\n",
              "      <td>1964</td>\n",
              "      <td>Viet Nam</td>\n",
              "      <td>6.285</td>\n",
              "      <td>6.1352</td>\n",
              "      <td>1.838166</td>\n",
              "    </tr>\n",
              "    <tr>\n",
              "      <th>2</th>\n",
              "      <td>1965</td>\n",
              "      <td>Viet Nam</td>\n",
              "      <td>6.156</td>\n",
              "      <td>6.1118</td>\n",
              "      <td>1.817427</td>\n",
              "    </tr>\n",
              "    <tr>\n",
              "      <th>3</th>\n",
              "      <td>1965</td>\n",
              "      <td>China</td>\n",
              "      <td>6.605</td>\n",
              "      <td>6.1476</td>\n",
              "      <td>1.887827</td>\n",
              "    </tr>\n",
              "  </tbody>\n",
              "</table>\n",
              "</div>\n",
              "    <div class=\"colab-df-buttons\">\n",
              "\n",
              "  <div class=\"colab-df-container\">\n",
              "    <button class=\"colab-df-convert\" onclick=\"convertToInteractive('df-d6f7e083-6ee3-4e36-a75e-a8c78be7c865')\"\n",
              "            title=\"Convert this dataframe to an interactive table.\"\n",
              "            style=\"display:none;\">\n",
              "\n",
              "  <svg xmlns=\"http://www.w3.org/2000/svg\" height=\"24px\" viewBox=\"0 -960 960 960\">\n",
              "    <path d=\"M120-120v-720h720v720H120Zm60-500h600v-160H180v160Zm220 220h160v-160H400v160Zm0 220h160v-160H400v160ZM180-400h160v-160H180v160Zm440 0h160v-160H620v160ZM180-180h160v-160H180v160Zm440 0h160v-160H620v160Z\"/>\n",
              "  </svg>\n",
              "    </button>\n",
              "\n",
              "  <style>\n",
              "    .colab-df-container {\n",
              "      display:flex;\n",
              "      gap: 12px;\n",
              "    }\n",
              "\n",
              "    .colab-df-convert {\n",
              "      background-color: #E8F0FE;\n",
              "      border: none;\n",
              "      border-radius: 50%;\n",
              "      cursor: pointer;\n",
              "      display: none;\n",
              "      fill: #1967D2;\n",
              "      height: 32px;\n",
              "      padding: 0 0 0 0;\n",
              "      width: 32px;\n",
              "    }\n",
              "\n",
              "    .colab-df-convert:hover {\n",
              "      background-color: #E2EBFA;\n",
              "      box-shadow: 0px 1px 2px rgba(60, 64, 67, 0.3), 0px 1px 3px 1px rgba(60, 64, 67, 0.15);\n",
              "      fill: #174EA6;\n",
              "    }\n",
              "\n",
              "    .colab-df-buttons div {\n",
              "      margin-bottom: 4px;\n",
              "    }\n",
              "\n",
              "    [theme=dark] .colab-df-convert {\n",
              "      background-color: #3B4455;\n",
              "      fill: #D2E3FC;\n",
              "    }\n",
              "\n",
              "    [theme=dark] .colab-df-convert:hover {\n",
              "      background-color: #434B5C;\n",
              "      box-shadow: 0px 1px 3px 1px rgba(0, 0, 0, 0.15);\n",
              "      filter: drop-shadow(0px 1px 2px rgba(0, 0, 0, 0.3));\n",
              "      fill: #FFFFFF;\n",
              "    }\n",
              "  </style>\n",
              "\n",
              "    <script>\n",
              "      const buttonEl =\n",
              "        document.querySelector('#df-d6f7e083-6ee3-4e36-a75e-a8c78be7c865 button.colab-df-convert');\n",
              "      buttonEl.style.display =\n",
              "        google.colab.kernel.accessAllowed ? 'block' : 'none';\n",
              "\n",
              "      async function convertToInteractive(key) {\n",
              "        const element = document.querySelector('#df-d6f7e083-6ee3-4e36-a75e-a8c78be7c865');\n",
              "        const dataTable =\n",
              "          await google.colab.kernel.invokeFunction('convertToInteractive',\n",
              "                                                    [key], {});\n",
              "        if (!dataTable) return;\n",
              "\n",
              "        const docLinkHtml = 'Like what you see? Visit the ' +\n",
              "          '<a target=\"_blank\" href=https://colab.research.google.com/notebooks/data_table.ipynb>data table notebook</a>'\n",
              "          + ' to learn more about interactive tables.';\n",
              "        element.innerHTML = '';\n",
              "        dataTable['output_type'] = 'display_data';\n",
              "        await google.colab.output.renderOutput(dataTable, element);\n",
              "        const docLink = document.createElement('div');\n",
              "        docLink.innerHTML = docLinkHtml;\n",
              "        element.appendChild(docLink);\n",
              "      }\n",
              "    </script>\n",
              "  </div>\n",
              "\n",
              "\n",
              "    <div id=\"df-50289f51-d1ac-4022-913a-37d22066335a\">\n",
              "      <button class=\"colab-df-quickchart\" onclick=\"quickchart('df-50289f51-d1ac-4022-913a-37d22066335a')\"\n",
              "                title=\"Suggest charts\"\n",
              "                style=\"display:none;\">\n",
              "\n",
              "<svg xmlns=\"http://www.w3.org/2000/svg\" height=\"24px\"viewBox=\"0 0 24 24\"\n",
              "     width=\"24px\">\n",
              "    <g>\n",
              "        <path d=\"M19 3H5c-1.1 0-2 .9-2 2v14c0 1.1.9 2 2 2h14c1.1 0 2-.9 2-2V5c0-1.1-.9-2-2-2zM9 17H7v-7h2v7zm4 0h-2V7h2v10zm4 0h-2v-4h2v4z\"/>\n",
              "    </g>\n",
              "</svg>\n",
              "      </button>\n",
              "\n",
              "<style>\n",
              "  .colab-df-quickchart {\n",
              "      --bg-color: #E8F0FE;\n",
              "      --fill-color: #1967D2;\n",
              "      --hover-bg-color: #E2EBFA;\n",
              "      --hover-fill-color: #174EA6;\n",
              "      --disabled-fill-color: #AAA;\n",
              "      --disabled-bg-color: #DDD;\n",
              "  }\n",
              "\n",
              "  [theme=dark] .colab-df-quickchart {\n",
              "      --bg-color: #3B4455;\n",
              "      --fill-color: #D2E3FC;\n",
              "      --hover-bg-color: #434B5C;\n",
              "      --hover-fill-color: #FFFFFF;\n",
              "      --disabled-bg-color: #3B4455;\n",
              "      --disabled-fill-color: #666;\n",
              "  }\n",
              "\n",
              "  .colab-df-quickchart {\n",
              "    background-color: var(--bg-color);\n",
              "    border: none;\n",
              "    border-radius: 50%;\n",
              "    cursor: pointer;\n",
              "    display: none;\n",
              "    fill: var(--fill-color);\n",
              "    height: 32px;\n",
              "    padding: 0;\n",
              "    width: 32px;\n",
              "  }\n",
              "\n",
              "  .colab-df-quickchart:hover {\n",
              "    background-color: var(--hover-bg-color);\n",
              "    box-shadow: 0 1px 2px rgba(60, 64, 67, 0.3), 0 1px 3px 1px rgba(60, 64, 67, 0.15);\n",
              "    fill: var(--button-hover-fill-color);\n",
              "  }\n",
              "\n",
              "  .colab-df-quickchart-complete:disabled,\n",
              "  .colab-df-quickchart-complete:disabled:hover {\n",
              "    background-color: var(--disabled-bg-color);\n",
              "    fill: var(--disabled-fill-color);\n",
              "    box-shadow: none;\n",
              "  }\n",
              "\n",
              "  .colab-df-spinner {\n",
              "    border: 2px solid var(--fill-color);\n",
              "    border-color: transparent;\n",
              "    border-bottom-color: var(--fill-color);\n",
              "    animation:\n",
              "      spin 1s steps(1) infinite;\n",
              "  }\n",
              "\n",
              "  @keyframes spin {\n",
              "    0% {\n",
              "      border-color: transparent;\n",
              "      border-bottom-color: var(--fill-color);\n",
              "      border-left-color: var(--fill-color);\n",
              "    }\n",
              "    20% {\n",
              "      border-color: transparent;\n",
              "      border-left-color: var(--fill-color);\n",
              "      border-top-color: var(--fill-color);\n",
              "    }\n",
              "    30% {\n",
              "      border-color: transparent;\n",
              "      border-left-color: var(--fill-color);\n",
              "      border-top-color: var(--fill-color);\n",
              "      border-right-color: var(--fill-color);\n",
              "    }\n",
              "    40% {\n",
              "      border-color: transparent;\n",
              "      border-right-color: var(--fill-color);\n",
              "      border-top-color: var(--fill-color);\n",
              "    }\n",
              "    60% {\n",
              "      border-color: transparent;\n",
              "      border-right-color: var(--fill-color);\n",
              "    }\n",
              "    80% {\n",
              "      border-color: transparent;\n",
              "      border-right-color: var(--fill-color);\n",
              "      border-bottom-color: var(--fill-color);\n",
              "    }\n",
              "    90% {\n",
              "      border-color: transparent;\n",
              "      border-bottom-color: var(--fill-color);\n",
              "    }\n",
              "  }\n",
              "</style>\n",
              "\n",
              "      <script>\n",
              "        async function quickchart(key) {\n",
              "          const quickchartButtonEl =\n",
              "            document.querySelector('#' + key + ' button');\n",
              "          quickchartButtonEl.disabled = true;  // To prevent multiple clicks.\n",
              "          quickchartButtonEl.classList.add('colab-df-spinner');\n",
              "          try {\n",
              "            const charts = await google.colab.kernel.invokeFunction(\n",
              "                'suggestCharts', [key], {});\n",
              "          } catch (error) {\n",
              "            console.error('Error during call to suggestCharts:', error);\n",
              "          }\n",
              "          quickchartButtonEl.classList.remove('colab-df-spinner');\n",
              "          quickchartButtonEl.classList.add('colab-df-quickchart-complete');\n",
              "        }\n",
              "        (() => {\n",
              "          let quickchartButtonEl =\n",
              "            document.querySelector('#df-50289f51-d1ac-4022-913a-37d22066335a button');\n",
              "          quickchartButtonEl.style.display =\n",
              "            google.colab.kernel.accessAllowed ? 'block' : 'none';\n",
              "        })();\n",
              "      </script>\n",
              "    </div>\n",
              "\n",
              "    </div>\n",
              "  </div>\n"
            ],
            "application/vnd.google.colaboratory.intrinsic+json": {
              "type": "dataframe",
              "variable_name": "combined_df_v",
              "summary": "{\n  \"name\": \"combined_df_v\",\n  \"rows\": 120,\n  \"fields\": [\n    {\n      \"column\": \"Year\",\n      \"properties\": {\n        \"dtype\": \"number\",\n        \"std\": 17,\n        \"min\": 1964,\n        \"max\": 2023,\n        \"num_unique_values\": 60,\n        \"samples\": [\n          1964,\n          1969,\n          2000\n        ],\n        \"semantic_type\": \"\",\n        \"description\": \"\"\n      }\n    },\n    {\n      \"column\": \"Country Name\",\n      \"properties\": {\n        \"dtype\": \"category\",\n        \"num_unique_values\": 2,\n        \"samples\": [\n          \"Viet Nam\",\n          \"China\"\n        ],\n        \"semantic_type\": \"\",\n        \"description\": \"\"\n      }\n    },\n    {\n      \"column\": \"Total Fertility Rate\",\n      \"properties\": {\n        \"dtype\": \"number\",\n        \"std\": 1.6775418237135322,\n        \"min\": 0.999,\n        \"max\": 6.672,\n        \"num_unique_values\": 116,\n        \"samples\": [\n          1.644,\n          6.307\n        ],\n        \"semantic_type\": \"\",\n        \"description\": \"\"\n      }\n    },\n    {\n      \"column\": \"ma_Fertility\",\n      \"properties\": {\n        \"dtype\": \"number\",\n        \"std\": 1.720212980166018,\n        \"min\": 1.1764000000000001,\n        \"max\": 6.6364,\n        \"num_unique_values\": 117,\n        \"samples\": [\n          2.6984000000000004,\n          6.6364\n        ],\n        \"semantic_type\": \"\",\n        \"description\": \"\"\n      }\n    },\n    {\n      \"column\": \"log_Fertility\",\n      \"properties\": {\n        \"dtype\": \"number\",\n        \"std\": 0.5134934972922638,\n        \"min\": -0.0010005003335835344,\n        \"max\": 1.8979196650564456,\n        \"num_unique_values\": 116,\n        \"samples\": [\n          0.4971322966339881,\n          1.8416601276815143\n        ],\n        \"semantic_type\": \"\",\n        \"description\": \"\"\n      }\n    }\n  ]\n}"
            }
          },
          "metadata": {},
          "execution_count": 28
        }
      ]
    },
    {
      "cell_type": "markdown",
      "source": [
        "# Assessing Linear Fit for OLS model"
      ],
      "metadata": {
        "id": "j7tipaVKq-2D"
      }
    },
    {
      "cell_type": "code",
      "source": [
        "# @title China: Year vs Log(Total Fertility Rate)\n",
        "\n",
        "plt.figure(figsize=(10, 6))\n",
        "combined_df_china = combined_df_v[combined_df_v[\"Country Name\"] == \"China\"]\n",
        "ax = sns.lineplot(data=combined_df_china, x=\"Year\", y=\"log_Fertility\")\n",
        "\n",
        "plt.axvline(x=1979, color='red', linestyle='--', label='One-Child Policy (1979)')\n",
        "loc = plticker.MultipleLocator(base=5)\n",
        "ax.xaxis.set_major_locator(loc)\n",
        "\n",
        "\n",
        "\n",
        "plt.title('China: Log(Total Fertility Rate) from 1960-2023')\n",
        "plt.xlabel('Year')\n",
        "plt.ylabel('Log(Total Fertility Rate)')\n",
        "plt.legend()\n",
        "plt.tight_layout()\n",
        "plt.show()"
      ],
      "metadata": {
        "colab": {
          "base_uri": "https://localhost:8080/",
          "height": 528
        },
        "id": "EwQPADm5qEJR",
        "outputId": "75bfdfc2-3736-4979-b46f-fbdad02a54bd"
      },
      "execution_count": 29,
      "outputs": [
        {
          "output_type": "display_data",
          "data": {
            "text/plain": [
              "<Figure size 1000x600 with 1 Axes>"
            ],
            "image/png": "[encoded data removed]"
          },
          "metadata": {}
        }
      ]
    },
    {
      "cell_type": "code",
      "source": [
        "# Treatment: 1 if China, 0 if Vietnam\n",
        "combined_df_v[\"Treatment\"] = combined_df_v[\"Country Name\"].apply(lambda x: 1 if x == \"China\" else 0)\n",
        "\n",
        "# Post: 1 if year >= 1979\n",
        "combined_df_v[\"Post\"] = combined_df_v[\"Year\"].apply(lambda x: 1 if x >= 1979 else 0)\n",
        "\n",
        "# DiD: interaction term\n",
        "combined_df_v[\"DiD\"] = combined_df_v[\"Treatment\"] * combined_df_v[\"Post\"]\n",
        "\n",
        "combined_df_v.head(4)"
      ],
      "metadata": {
        "colab": {
          "base_uri": "https://localhost:8080/",
          "height": 175
        },
        "id": "CR2_4qj7cxix",
        "outputId": "1c9c581f-f24e-487f-91ed-4faa908004bb"
      },
      "execution_count": 30,
      "outputs": [
        {
          "output_type": "execute_result",
          "data": {
            "text/plain": [
              "   Year Country Name  Total Fertility Rate  ma_Fertility  log_Fertility  \\\n",
              "0  1964        China                 6.672        5.7168       1.897920   \n",
              "1  1964     Viet Nam                 6.285        6.1352       1.838166   \n",
              "2  1965     Viet Nam                 6.156        6.1118       1.817427   \n",
              "3  1965        China                 6.605        6.1476       1.887827   \n",
              "\n",
              "   Treatment  Post  DiD  \n",
              "0          1     0    0  \n",
              "1          0     0    0  \n",
              "2          0     0    0  \n",
              "3          1     0    0  "
            ],
            "text/html": [
              "\n",
              "  <div id=\"df-129f327b-6d55-475d-8efd-94898bd31264\" class=\"colab-df-container\">\n",
              "    <div>\n",
              "<style scoped>\n",
              "    .dataframe tbody tr th:only-of-type {\n",
              "        vertical-align: middle;\n",
              "    }\n",
              "\n",
              "    .dataframe tbody tr th {\n",
              "        vertical-align: top;\n",
              "    }\n",
              "\n",
              "    .dataframe thead th {\n",
              "        text-align: right;\n",
              "    }\n",
              "</style>\n",
              "<table border=\"1\" class=\"dataframe\">\n",
              "  <thead>\n",
              "    <tr style=\"text-align: right;\">\n",
              "      <th></th>\n",
              "      <th>Year</th>\n",
              "      <th>Country Name</th>\n",
              "      <th>Total Fertility Rate</th>\n",
              "      <th>ma_Fertility</th>\n",
              "      <th>log_Fertility</th>\n",
              "      <th>Treatment</th>\n",
              "      <th>Post</th>\n",
              "      <th>DiD</th>\n",
              "    </tr>\n",
              "  </thead>\n",
              "  <tbody>\n",
              "    <tr>\n",
              "      <th>0</th>\n",
              "      <td>1964</td>\n",
              "      <td>China</td>\n",
              "      <td>6.672</td>\n",
              "      <td>5.7168</td>\n",
              "      <td>1.897920</td>\n",
              "      <td>1</td>\n",
              "      <td>0</td>\n",
              "      <td>0</td>\n",
              "    </tr>\n",
              "    <tr>\n",
              "      <th>1</th>\n",
              "      <td>1964</td>\n",
              "      <td>Viet Nam</td>\n",
              "      <td>6.285</td>\n",
              "      <td>6.1352</td>\n",
              "      <td>1.838166</td>\n",
              "      <td>0</td>\n",
              "      <td>0</td>\n",
              "      <td>0</td>\n",
              "    </tr>\n",
              "    <tr>\n",
              "      <th>2</th>\n",
              "      <td>1965</td>\n",
              "      <td>Viet Nam</td>\n",
              "      <td>6.156</td>\n",
              "      <td>6.1118</td>\n",
              "      <td>1.817427</td>\n",
              "      <td>0</td>\n",
              "      <td>0</td>\n",
              "      <td>0</td>\n",
              "    </tr>\n",
              "    <tr>\n",
              "      <th>3</th>\n",
              "      <td>1965</td>\n",
              "      <td>China</td>\n",
              "      <td>6.605</td>\n",
              "      <td>6.1476</td>\n",
              "      <td>1.887827</td>\n",
              "      <td>1</td>\n",
              "      <td>0</td>\n",
              "      <td>0</td>\n",
              "    </tr>\n",
              "  </tbody>\n",
              "</table>\n",
              "</div>\n",
              "    <div class=\"colab-df-buttons\">\n",
              "\n",
              "  <div class=\"colab-df-container\">\n",
              "    <button class=\"colab-df-convert\" onclick=\"convertToInteractive('df-129f327b-6d55-475d-8efd-94898bd31264')\"\n",
              "            title=\"Convert this dataframe to an interactive table.\"\n",
              "            style=\"display:none;\">\n",
              "\n",
              "  <svg xmlns=\"http://www.w3.org/2000/svg\" height=\"24px\" viewBox=\"0 -960 960 960\">\n",
              "    <path d=\"M120-120v-720h720v720H120Zm60-500h600v-160H180v160Zm220 220h160v-160H400v160Zm0 220h160v-160H400v160ZM180-400h160v-160H180v160Zm440 0h160v-160H620v160ZM180-180h160v-160H180v160Zm440 0h160v-160H620v160Z\"/>\n",
              "  </svg>\n",
              "    </button>\n",
              "\n",
              "  <style>\n",
              "    .colab-df-container {\n",
              "      display:flex;\n",
              "      gap: 12px;\n",
              "    }\n",
              "\n",
              "    .colab-df-convert {\n",
              "      background-color: #E8F0FE;\n",
              "      border: none;\n",
              "      border-radius: 50%;\n",
              "      cursor: pointer;\n",
              "      display: none;\n",
              "      fill: #1967D2;\n",
              "      height: 32px;\n",
              "      padding: 0 0 0 0;\n",
              "      width: 32px;\n",
              "    }\n",
              "\n",
              "    .colab-df-convert:hover {\n",
              "      background-color: #E2EBFA;\n",
              "      box-shadow: 0px 1px 2px rgba(60, 64, 67, 0.3), 0px 1px 3px 1px rgba(60, 64, 67, 0.15);\n",
              "      fill: #174EA6;\n",
              "    }\n",
              "\n",
              "    .colab-df-buttons div {\n",
              "      margin-bottom: 4px;\n",
              "    }\n",
              "\n",
              "    [theme=dark] .colab-df-convert {\n",
              "      background-color: #3B4455;\n",
              "      fill: #D2E3FC;\n",
              "    }\n",
              "\n",
              "    [theme=dark] .colab-df-convert:hover {\n",
              "      background-color: #434B5C;\n",
              "      box-shadow: 0px 1px 3px 1px rgba(0, 0, 0, 0.15);\n",
              "      filter: drop-shadow(0px 1px 2px rgba(0, 0, 0, 0.3));\n",
              "      fill: #FFFFFF;\n",
              "    }\n",
              "  </style>\n",
              "\n",
              "    <script>\n",
              "      const buttonEl =\n",
              "        document.querySelector('#df-129f327b-6d55-475d-8efd-94898bd31264 button.colab-df-convert');\n",
              "      buttonEl.style.display =\n",
              "        google.colab.kernel.accessAllowed ? 'block' : 'none';\n",
              "\n",
              "      async function convertToInteractive(key) {\n",
              "        const element = document.querySelector('#df-129f327b-6d55-475d-8efd-94898bd31264');\n",
              "        const dataTable =\n",
              "          await google.colab.kernel.invokeFunction('convertToInteractive',\n",
              "                                                    [key], {});\n",
              "        if (!dataTable) return;\n",
              "\n",
              "        const docLinkHtml = 'Like what you see? Visit the ' +\n",
              "          '<a target=\"_blank\" href=https://colab.research.google.com/notebooks/data_table.ipynb>data table notebook</a>'\n",
              "          + ' to learn more about interactive tables.';\n",
              "        element.innerHTML = '';\n",
              "        dataTable['output_type'] = 'display_data';\n",
              "        await google.colab.output.renderOutput(dataTable, element);\n",
              "        const docLink = document.createElement('div');\n",
              "        docLink.innerHTML = docLinkHtml;\n",
              "        element.appendChild(docLink);\n",
              "      }\n",
              "    </script>\n",
              "  </div>\n",
              "\n",
              "\n",
              "    <div id=\"df-31760ccd-3f7e-4fd9-89c5-6f5b2c446c11\">\n",
              "      <button class=\"colab-df-quickchart\" onclick=\"quickchart('df-31760ccd-3f7e-4fd9-89c5-6f5b2c446c11')\"\n",
              "                title=\"Suggest charts\"\n",
              "                style=\"display:none;\">\n",
              "\n",
              "<svg xmlns=\"http://www.w3.org/2000/svg\" height=\"24px\"viewBox=\"0 0 24 24\"\n",
              "     width=\"24px\">\n",
              "    <g>\n",
              "        <path d=\"M19 3H5c-1.1 0-2 .9-2 2v14c0 1.1.9 2 2 2h14c1.1 0 2-.9 2-2V5c0-1.1-.9-2-2-2zM9 17H7v-7h2v7zm4 0h-2V7h2v10zm4 0h-2v-4h2v4z\"/>\n",
              "    </g>\n",
              "</svg>\n",
              "      </button>\n",
              "\n",
              "<style>\n",
              "  .colab-df-quickchart {\n",
              "      --bg-color: #E8F0FE;\n",
              "      --fill-color: #1967D2;\n",
              "      --hover-bg-color: #E2EBFA;\n",
              "      --hover-fill-color: #174EA6;\n",
              "      --disabled-fill-color: #AAA;\n",
              "      --disabled-bg-color: #DDD;\n",
              "  }\n",
              "\n",
              "  [theme=dark] .colab-df-quickchart {\n",
              "      --bg-color: #3B4455;\n",
              "      --fill-color: #D2E3FC;\n",
              "      --hover-bg-color: #434B5C;\n",
              "      --hover-fill-color: #FFFFFF;\n",
              "      --disabled-bg-color: #3B4455;\n",
              "      --disabled-fill-color: #666;\n",
              "  }\n",
              "\n",
              "  .colab-df-quickchart {\n",
              "    background-color: var(--bg-color);\n",
              "    border: none;\n",
              "    border-radius: 50%;\n",
              "    cursor: pointer;\n",
              "    display: none;\n",
              "    fill: var(--fill-color);\n",
              "    height: 32px;\n",
              "    padding: 0;\n",
              "    width: 32px;\n",
              "  }\n",
              "\n",
              "  .colab-df-quickchart:hover {\n",
              "    background-color: var(--hover-bg-color);\n",
              "    box-shadow: 0 1px 2px rgba(60, 64, 67, 0.3), 0 1px 3px 1px rgba(60, 64, 67, 0.15);\n",
              "    fill: var(--button-hover-fill-color);\n",
              "  }\n",
              "\n",
              "  .colab-df-quickchart-complete:disabled,\n",
              "  .colab-df-quickchart-complete:disabled:hover {\n",
              "    background-color: var(--disabled-bg-color);\n",
              "    fill: var(--disabled-fill-color);\n",
              "    box-shadow: none;\n",
              "  }\n",
              "\n",
              "  .colab-df-spinner {\n",
              "    border: 2px solid var(--fill-color);\n",
              "    border-color: transparent;\n",
              "    border-bottom-color: var(--fill-color);\n",
              "    animation:\n",
              "      spin 1s steps(1) infinite;\n",
              "  }\n",
              "\n",
              "  @keyframes spin {\n",
              "    0% {\n",
              "      border-color: transparent;\n",
              "      border-bottom-color: var(--fill-color);\n",
              "      border-left-color: var(--fill-color);\n",
              "    }\n",
              "    20% {\n",
              "      border-color: transparent;\n",
              "      border-left-color: var(--fill-color);\n",
              "      border-top-color: var(--fill-color);\n",
              "    }\n",
              "    30% {\n",
              "      border-color: transparent;\n",
              "      border-left-color: var(--fill-color);\n",
              "      border-top-color: var(--fill-color);\n",
              "      border-right-color: var(--fill-color);\n",
              "    }\n",
              "    40% {\n",
              "      border-color: transparent;\n",
              "      border-right-color: var(--fill-color);\n",
              "      border-top-color: var(--fill-color);\n",
              "    }\n",
              "    60% {\n",
              "      border-color: transparent;\n",
              "      border-right-color: var(--fill-color);\n",
              "    }\n",
              "    80% {\n",
              "      border-color: transparent;\n",
              "      border-right-color: var(--fill-color);\n",
              "      border-bottom-color: var(--fill-color);\n",
              "    }\n",
              "    90% {\n",
              "      border-color: transparent;\n",
              "      border-bottom-color: var(--fill-color);\n",
              "    }\n",
              "  }\n",
              "</style>\n",
              "\n",
              "      <script>\n",
              "        async function quickchart(key) {\n",
              "          const quickchartButtonEl =\n",
              "            document.querySelector('#' + key + ' button');\n",
              "          quickchartButtonEl.disabled = true;  // To prevent multiple clicks.\n",
              "          quickchartButtonEl.classList.add('colab-df-spinner');\n",
              "          try {\n",
              "            const charts = await google.colab.kernel.invokeFunction(\n",
              "                'suggestCharts', [key], {});\n",
              "          } catch (error) {\n",
              "            console.error('Error during call to suggestCharts:', error);\n",
              "          }\n",
              "          quickchartButtonEl.classList.remove('colab-df-spinner');\n",
              "          quickchartButtonEl.classList.add('colab-df-quickchart-complete');\n",
              "        }\n",
              "        (() => {\n",
              "          let quickchartButtonEl =\n",
              "            document.querySelector('#df-31760ccd-3f7e-4fd9-89c5-6f5b2c446c11 button');\n",
              "          quickchartButtonEl.style.display =\n",
              "            google.colab.kernel.accessAllowed ? 'block' : 'none';\n",
              "        })();\n",
              "      </script>\n",
              "    </div>\n",
              "\n",
              "    </div>\n",
              "  </div>\n"
            ],
            "application/vnd.google.colaboratory.intrinsic+json": {
              "type": "dataframe",
              "variable_name": "combined_df_v",
              "summary": "{\n  \"name\": \"combined_df_v\",\n  \"rows\": 120,\n  \"fields\": [\n    {\n      \"column\": \"Year\",\n      \"properties\": {\n        \"dtype\": \"number\",\n        \"std\": 17,\n        \"min\": 1964,\n        \"max\": 2023,\n        \"num_unique_values\": 60,\n        \"samples\": [\n          1964,\n          1969,\n          2000\n        ],\n        \"semantic_type\": \"\",\n        \"description\": \"\"\n      }\n    },\n    {\n      \"column\": \"Country Name\",\n      \"properties\": {\n        \"dtype\": \"category\",\n        \"num_unique_values\": 2,\n        \"samples\": [\n          \"Viet Nam\",\n          \"China\"\n        ],\n        \"semantic_type\": \"\",\n        \"description\": \"\"\n      }\n    },\n    {\n      \"column\": \"Total Fertility Rate\",\n      \"properties\": {\n        \"dtype\": \"number\",\n        \"std\": 1.6775418237135322,\n        \"min\": 0.999,\n        \"max\": 6.672,\n        \"num_unique_values\": 116,\n        \"samples\": [\n          1.644,\n          6.307\n        ],\n        \"semantic_type\": \"\",\n        \"description\": \"\"\n      }\n    },\n    {\n      \"column\": \"ma_Fertility\",\n      \"properties\": {\n        \"dtype\": \"number\",\n        \"std\": 1.720212980166018,\n        \"min\": 1.1764000000000001,\n        \"max\": 6.6364,\n        \"num_unique_values\": 117,\n        \"samples\": [\n          2.6984000000000004,\n          6.6364\n        ],\n        \"semantic_type\": \"\",\n        \"description\": \"\"\n      }\n    },\n    {\n      \"column\": \"log_Fertility\",\n      \"properties\": {\n        \"dtype\": \"number\",\n        \"std\": 0.5134934972922638,\n        \"min\": -0.0010005003335835344,\n        \"max\": 1.8979196650564456,\n        \"num_unique_values\": 116,\n        \"samples\": [\n          0.4971322966339881,\n          1.8416601276815143\n        ],\n        \"semantic_type\": \"\",\n        \"description\": \"\"\n      }\n    },\n    {\n      \"column\": \"Treatment\",\n      \"properties\": {\n        \"dtype\": \"number\",\n        \"std\": 0,\n        \"min\": 0,\n        \"max\": 1,\n        \"num_unique_values\": 2,\n        \"samples\": [\n          0,\n          1\n        ],\n        \"semantic_type\": \"\",\n        \"description\": \"\"\n      }\n    },\n    {\n      \"column\": \"Post\",\n      \"properties\": {\n        \"dtype\": \"number\",\n        \"std\": 0,\n        \"min\": 0,\n        \"max\": 1,\n        \"num_unique_values\": 2,\n        \"samples\": [\n          1,\n          0\n        ],\n        \"semantic_type\": \"\",\n        \"description\": \"\"\n      }\n    },\n    {\n      \"column\": \"DiD\",\n      \"properties\": {\n        \"dtype\": \"number\",\n        \"std\": 0,\n        \"min\": 0,\n        \"max\": 1,\n        \"num_unique_values\": 2,\n        \"samples\": [\n          1,\n          0\n        ],\n        \"semantic_type\": \"\",\n        \"description\": \"\"\n      }\n    }\n  ]\n}"
            }
          },
          "metadata": {},
          "execution_count": 30
        }
      ]
    },
    {
      "cell_type": "markdown",
      "source": [
        "# Regression with log_Fertility"
      ],
      "metadata": {
        "id": "hZuWmUeIT4YE"
      }
    },
    {
      "cell_type": "code",
      "source": [
        "X = combined_df_v[[\"Treatment\", \"Post\", \"DiD\"]]\n",
        "X = sm.add_constant(X)\n",
        "y = combined_df_v[\"log_Fertility\"]\n",
        "\n",
        "model_v = sm.OLS(y, X).fit()\n",
        "print(model_v.summary())"
      ],
      "metadata": {
        "colab": {
          "base_uri": "https://localhost:8080/"
        },
        "id": "xYePcqNtd8ma",
        "outputId": "57f38dc7-59ba-46d7-b1c7-1f8c4618f07f"
      },
      "execution_count": 45,
      "outputs": [
        {
          "output_type": "stream",
          "name": "stdout",
          "text": [
            "                            OLS Regression Results                            \n",
            "==============================================================================\n",
            "Dep. Variable:          log_Fertility   R-squared:                       0.685\n",
            "Model:                            OLS   Adj. R-squared:                  0.677\n",
            "Method:                 Least Squares   F-statistic:                     83.98\n",
            "Date:                Sun, 07 Sep 2025   Prob (F-statistic):           6.03e-29\n",
            "Time:                        04:00:33   Log-Likelihood:                -20.530\n",
            "No. Observations:                 120   AIC:                             49.06\n",
            "Df Residuals:                     116   BIC:                             60.21\n",
            "Df Model:                           3                                         \n",
            "Covariance Type:            nonrobust                                         \n",
            "==============================================================================\n",
            "                 coef    std err          t      P>|t|      [0.025      0.975]\n",
            "------------------------------------------------------------------------------\n",
            "const          1.7664      0.075     23.426      0.000       1.617       1.916\n",
            "Treatment     -0.1865      0.107     -1.749      0.083      -0.398       0.025\n",
            "Post          -0.8282      0.087     -9.513      0.000      -1.001      -0.656\n",
            "DiD           -0.1590      0.123     -1.291      0.199      -0.403       0.085\n",
            "==============================================================================\n",
            "Omnibus:                        5.444   Durbin-Watson:                   0.327\n",
            "Prob(Omnibus):                  0.066   Jarque-Bera (JB):                4.619\n",
            "Skew:                           0.389   Prob(JB):                       0.0993\n",
            "Kurtosis:                       2.434   Cond. No.                         9.89\n",
            "==============================================================================\n",
            "\n",
            "Notes:\n",
            "[1] Standard Errors assume that the covariance matrix of the errors is correctly specified.\n"
          ]
        }
      ]
    },
    {
      "cell_type": "markdown",
      "source": [
        "# Regression with fertility"
      ],
      "metadata": {
        "id": "YN8exQMtbUZf"
      }
    },
    {
      "cell_type": "code",
      "source": [
        "X = combined_df_v[[\"Treatment\", \"Post\", \"DiD\"]]\n",
        "X = sm.add_constant(X)\n",
        "y = combined_df_v[\"Total Fertility Rate\"]\n",
        "\n",
        "model_v = sm.OLS(y, X).fit()\n",
        "print(model_v.summary())"
      ],
      "metadata": {
        "colab": {
          "base_uri": "https://localhost:8080/"
        },
        "id": "EIe4EJyoT_gE",
        "outputId": "027095c1-ada6-4ce5-86f9-0afddc903400"
      },
      "execution_count": 57,
      "outputs": [
        {
          "output_type": "stream",
          "name": "stdout",
          "text": [
            "                             OLS Regression Results                             \n",
            "================================================================================\n",
            "Dep. Variable:     Total Fertility Rate   R-squared:                       0.736\n",
            "Model:                              OLS   Adj. R-squared:                  0.729\n",
            "Method:                   Least Squares   F-statistic:                     107.7\n",
            "Date:                  Sun, 07 Sep 2025   Prob (F-statistic):           2.19e-33\n",
            "Time:                          04:38:06   Log-Likelihood:                -151.98\n",
            "No. Observations:                   120   AIC:                             312.0\n",
            "Df Residuals:                       116   BIC:                             323.1\n",
            "Df Model:                             3                                         \n",
            "Covariance Type:              nonrobust                                         \n",
            "==============================================================================\n",
            "                 coef    std err          t      P>|t|      [0.025      0.975]\n",
            "------------------------------------------------------------------------------\n",
            "const          5.8592      0.225     25.985      0.000       5.413       6.306\n",
            "Treatment     -0.7889      0.319     -2.474      0.015      -1.420      -0.157\n",
            "Post          -3.1422      0.260    -12.068      0.000      -3.658      -2.626\n",
            "DiD           -0.0520      0.368     -0.141      0.888      -0.781       0.677\n",
            "==============================================================================\n",
            "Omnibus:                        3.380   Durbin-Watson:                   0.505\n",
            "Prob(Omnibus):                  0.184   Jarque-Bera (JB):                2.862\n",
            "Skew:                           0.361   Prob(JB):                        0.239\n",
            "Kurtosis:                       3.224   Cond. No.                         9.89\n",
            "==============================================================================\n",
            "\n",
            "Notes:\n",
            "[1] Standard Errors assume that the covariance matrix of the errors is correctly specified.\n"
          ]
        }
      ]
    },
    {
      "cell_type": "markdown",
      "source": [
        "# DiD Variable Definitions - Experiment 2: South Korea as counterfactual\n",
        "\n",
        "\n",
        "*   TREATMENT: Whether Country is China (1) or South Korea (0)\n",
        "*   POST: Pre or Post Policy (1979)\n",
        "*   DiD: Interaction Term based on if policy has been enacted in China"
      ],
      "metadata": {
        "id": "VfGSZ93JhtyQ"
      }
    },
    {
      "cell_type": "code",
      "source": [
        "combined_df_sk = pd.concat([china_df_USE, south_korea_df_USE], ignore_index=True).sort_values(by=\"Year\").set_index(\"Year\").reset_index()\n",
        "combined_df_sk[\"log_Fertility\"] = np.log(combined_df_sk[\"Total Fertility Rate\"])\n",
        "combined_df_sk.head(4)\n",
        "\n",
        "# Treatment: 1 if China, 0 if South Korea\n",
        "combined_df_sk[\"Treatment\"] = combined_df_sk[\"Country Name\"].apply(lambda x: 1 if x == \"China\" else 0)\n",
        "\n",
        "# Post: 1 if year >= 1979\n",
        "combined_df_sk[\"Post\"] = combined_df_sk[\"Year\"].apply(lambda x: 1 if x >= 1979 else 0)\n",
        "\n",
        "# DiD: interaction term\n",
        "combined_df_sk[\"DiD\"] = combined_df_sk[\"Treatment\"] * combined_df_sk[\"Post\"]\n",
        "\n",
        "combined_df_sk.head(4)"
      ],
      "metadata": {
        "colab": {
          "base_uri": "https://localhost:8080/",
          "height": 175
        },
        "id": "Z8okl4TIhrhO",
        "outputId": "202a847e-d743-4229-e392-211cc96336b2"
      },
      "execution_count": 49,
      "outputs": [
        {
          "output_type": "execute_result",
          "data": {
            "text/plain": [
              "   Year Country Name  Total Fertility Rate  log_Fertility  Treatment  Post  \\\n",
              "0  1960        China                 4.451       1.493129          1     0   \n",
              "1  1960  Korea, Rep.                 5.994       1.790759          0     0   \n",
              "2  1961  Korea, Rep.                 5.803       1.758375          0     0   \n",
              "3  1961        China                 3.863       1.351444          1     0   \n",
              "\n",
              "   DiD  \n",
              "0    0  \n",
              "1    0  \n",
              "2    0  \n",
              "3    0  "
            ],
            "text/html": [
              "\n",
              "  <div id=\"df-2ecb7f8e-7710-478a-b971-6177d8764217\" class=\"colab-df-container\">\n",
              "    <div>\n",
              "<style scoped>\n",
              "    .dataframe tbody tr th:only-of-type {\n",
              "        vertical-align: middle;\n",
              "    }\n",
              "\n",
              "    .dataframe tbody tr th {\n",
              "        vertical-align: top;\n",
              "    }\n",
              "\n",
              "    .dataframe thead th {\n",
              "        text-align: right;\n",
              "    }\n",
              "</style>\n",
              "<table border=\"1\" class=\"dataframe\">\n",
              "  <thead>\n",
              "    <tr style=\"text-align: right;\">\n",
              "      <th></th>\n",
              "      <th>Year</th>\n",
              "      <th>Country Name</th>\n",
              "      <th>Total Fertility Rate</th>\n",
              "      <th>log_Fertility</th>\n",
              "      <th>Treatment</th>\n",
              "      <th>Post</th>\n",
              "      <th>DiD</th>\n",
              "    </tr>\n",
              "  </thead>\n",
              "  <tbody>\n",
              "    <tr>\n",
              "      <th>0</th>\n",
              "      <td>1960</td>\n",
              "      <td>China</td>\n",
              "      <td>4.451</td>\n",
              "      <td>1.493129</td>\n",
              "      <td>1</td>\n",
              "      <td>0</td>\n",
              "      <td>0</td>\n",
              "    </tr>\n",
              "    <tr>\n",
              "      <th>1</th>\n",
              "      <td>1960</td>\n",
              "      <td>Korea, Rep.</td>\n",
              "      <td>5.994</td>\n",
              "      <td>1.790759</td>\n",
              "      <td>0</td>\n",
              "      <td>0</td>\n",
              "      <td>0</td>\n",
              "    </tr>\n",
              "    <tr>\n",
              "      <th>2</th>\n",
              "      <td>1961</td>\n",
              "      <td>Korea, Rep.</td>\n",
              "      <td>5.803</td>\n",
              "      <td>1.758375</td>\n",
              "      <td>0</td>\n",
              "      <td>0</td>\n",
              "      <td>0</td>\n",
              "    </tr>\n",
              "    <tr>\n",
              "      <th>3</th>\n",
              "      <td>1961</td>\n",
              "      <td>China</td>\n",
              "      <td>3.863</td>\n",
              "      <td>1.351444</td>\n",
              "      <td>1</td>\n",
              "      <td>0</td>\n",
              "      <td>0</td>\n",
              "    </tr>\n",
              "  </tbody>\n",
              "</table>\n",
              "</div>\n",
              "    <div class=\"colab-df-buttons\">\n",
              "\n",
              "  <div class=\"colab-df-container\">\n",
              "    <button class=\"colab-df-convert\" onclick=\"convertToInteractive('df-2ecb7f8e-7710-478a-b971-6177d8764217')\"\n",
              "            title=\"Convert this dataframe to an interactive table.\"\n",
              "            style=\"display:none;\">\n",
              "\n",
              "  <svg xmlns=\"http://www.w3.org/2000/svg\" height=\"24px\" viewBox=\"0 -960 960 960\">\n",
              "    <path d=\"M120-120v-720h720v720H120Zm60-500h600v-160H180v160Zm220 220h160v-160H400v160Zm0 220h160v-160H400v160ZM180-400h160v-160H180v160Zm440 0h160v-160H620v160ZM180-180h160v-160H180v160Zm440 0h160v-160H620v160Z\"/>\n",
              "  </svg>\n",
              "    </button>\n",
              "\n",
              "  <style>\n",
              "    .colab-df-container {\n",
              "      display:flex;\n",
              "      gap: 12px;\n",
              "    }\n",
              "\n",
              "    .colab-df-convert {\n",
              "      background-color: #E8F0FE;\n",
              "      border: none;\n",
              "      border-radius: 50%;\n",
              "      cursor: pointer;\n",
              "      display: none;\n",
              "      fill: #1967D2;\n",
              "      height: 32px;\n",
              "      padding: 0 0 0 0;\n",
              "      width: 32px;\n",
              "    }\n",
              "\n",
              "    .colab-df-convert:hover {\n",
              "      background-color: #E2EBFA;\n",
              "      box-shadow: 0px 1px 2px rgba(60, 64, 67, 0.3), 0px 1px 3px 1px rgba(60, 64, 67, 0.15);\n",
              "      fill: #174EA6;\n",
              "    }\n",
              "\n",
              "    .colab-df-buttons div {\n",
              "      margin-bottom: 4px;\n",
              "    }\n",
              "\n",
              "    [theme=dark] .colab-df-convert {\n",
              "      background-color: #3B4455;\n",
              "      fill: #D2E3FC;\n",
              "    }\n",
              "\n",
              "    [theme=dark] .colab-df-convert:hover {\n",
              "      background-color: #434B5C;\n",
              "      box-shadow: 0px 1px 3px 1px rgba(0, 0, 0, 0.15);\n",
              "      filter: drop-shadow(0px 1px 2px rgba(0, 0, 0, 0.3));\n",
              "      fill: #FFFFFF;\n",
              "    }\n",
              "  </style>\n",
              "\n",
              "    <script>\n",
              "      const buttonEl =\n",
              "        document.querySelector('#df-2ecb7f8e-7710-478a-b971-6177d8764217 button.colab-df-convert');\n",
              "      buttonEl.style.display =\n",
              "        google.colab.kernel.accessAllowed ? 'block' : 'none';\n",
              "\n",
              "      async function convertToInteractive(key) {\n",
              "        const element = document.querySelector('#df-2ecb7f8e-7710-478a-b971-6177d8764217');\n",
              "        const dataTable =\n",
              "          await google.colab.kernel.invokeFunction('convertToInteractive',\n",
              "                                                    [key], {});\n",
              "        if (!dataTable) return;\n",
              "\n",
              "        const docLinkHtml = 'Like what you see? Visit the ' +\n",
              "          '<a target=\"_blank\" href=https://colab.research.google.com/notebooks/data_table.ipynb>data table notebook</a>'\n",
              "          + ' to learn more about interactive tables.';\n",
              "        element.innerHTML = '';\n",
              "        dataTable['output_type'] = 'display_data';\n",
              "        await google.colab.output.renderOutput(dataTable, element);\n",
              "        const docLink = document.createElement('div');\n",
              "        docLink.innerHTML = docLinkHtml;\n",
              "        element.appendChild(docLink);\n",
              "      }\n",
              "    </script>\n",
              "  </div>\n",
              "\n",
              "\n",
              "    <div id=\"df-b85f51c3-f9a3-418d-93a9-6f335d929604\">\n",
              "      <button class=\"colab-df-quickchart\" onclick=\"quickchart('df-b85f51c3-f9a3-418d-93a9-6f335d929604')\"\n",
              "                title=\"Suggest charts\"\n",
              "                style=\"display:none;\">\n",
              "\n",
              "<svg xmlns=\"http://www.w3.org/2000/svg\" height=\"24px\"viewBox=\"0 0 24 24\"\n",
              "     width=\"24px\">\n",
              "    <g>\n",
              "        <path d=\"M19 3H5c-1.1 0-2 .9-2 2v14c0 1.1.9 2 2 2h14c1.1 0 2-.9 2-2V5c0-1.1-.9-2-2-2zM9 17H7v-7h2v7zm4 0h-2V7h2v10zm4 0h-2v-4h2v4z\"/>\n",
              "    </g>\n",
              "</svg>\n",
              "      </button>\n",
              "\n",
              "<style>\n",
              "  .colab-df-quickchart {\n",
              "      --bg-color: #E8F0FE;\n",
              "      --fill-color: #1967D2;\n",
              "      --hover-bg-color: #E2EBFA;\n",
              "      --hover-fill-color: #174EA6;\n",
              "      --disabled-fill-color: #AAA;\n",
              "      --disabled-bg-color: #DDD;\n",
              "  }\n",
              "\n",
              "  [theme=dark] .colab-df-quickchart {\n",
              "      --bg-color: #3B4455;\n",
              "      --fill-color: #D2E3FC;\n",
              "      --hover-bg-color: #434B5C;\n",
              "      --hover-fill-color: #FFFFFF;\n",
              "      --disabled-bg-color: #3B4455;\n",
              "      --disabled-fill-color: #666;\n",
              "  }\n",
              "\n",
              "  .colab-df-quickchart {\n",
              "    background-color: var(--bg-color);\n",
              "    border: none;\n",
              "    border-radius: 50%;\n",
              "    cursor: pointer;\n",
              "    display: none;\n",
              "    fill: var(--fill-color);\n",
              "    height: 32px;\n",
              "    padding: 0;\n",
              "    width: 32px;\n",
              "  }\n",
              "\n",
              "  .colab-df-quickchart:hover {\n",
              "    background-color: var(--hover-bg-color);\n",
              "    box-shadow: 0 1px 2px rgba(60, 64, 67, 0.3), 0 1px 3px 1px rgba(60, 64, 67, 0.15);\n",
              "    fill: var(--button-hover-fill-color);\n",
              "  }\n",
              "\n",
              "  .colab-df-quickchart-complete:disabled,\n",
              "  .colab-df-quickchart-complete:disabled:hover {\n",
              "    background-color: var(--disabled-bg-color);\n",
              "    fill: var(--disabled-fill-color);\n",
              "    box-shadow: none;\n",
              "  }\n",
              "\n",
              "  .colab-df-spinner {\n",
              "    border: 2px solid var(--fill-color);\n",
              "    border-color: transparent;\n",
              "    border-bottom-color: var(--fill-color);\n",
              "    animation:\n",
              "      spin 1s steps(1) infinite;\n",
              "  }\n",
              "\n",
              "  @keyframes spin {\n",
              "    0% {\n",
              "      border-color: transparent;\n",
              "      border-bottom-color: var(--fill-color);\n",
              "      border-left-color: var(--fill-color);\n",
              "    }\n",
              "    20% {\n",
              "      border-color: transparent;\n",
              "      border-left-color: var(--fill-color);\n",
              "      border-top-color: var(--fill-color);\n",
              "    }\n",
              "    30% {\n",
              "      border-color: transparent;\n",
              "      border-left-color: var(--fill-color);\n",
              "      border-top-color: var(--fill-color);\n",
              "      border-right-color: var(--fill-color);\n",
              "    }\n",
              "    40% {\n",
              "      border-color: transparent;\n",
              "      border-right-color: var(--fill-color);\n",
              "      border-top-color: var(--fill-color);\n",
              "    }\n",
              "    60% {\n",
              "      border-color: transparent;\n",
              "      border-right-color: var(--fill-color);\n",
              "    }\n",
              "    80% {\n",
              "      border-color: transparent;\n",
              "      border-right-color: var(--fill-color);\n",
              "      border-bottom-color: var(--fill-color);\n",
              "    }\n",
              "    90% {\n",
              "      border-color: transparent;\n",
              "      border-bottom-color: var(--fill-color);\n",
              "    }\n",
              "  }\n",
              "</style>\n",
              "\n",
              "      <script>\n",
              "        async function quickchart(key) {\n",
              "          const quickchartButtonEl =\n",
              "            document.querySelector('#' + key + ' button');\n",
              "          quickchartButtonEl.disabled = true;  // To prevent multiple clicks.\n",
              "          quickchartButtonEl.classList.add('colab-df-spinner');\n",
              "          try {\n",
              "            const charts = await google.colab.kernel.invokeFunction(\n",
              "                'suggestCharts', [key], {});\n",
              "          } catch (error) {\n",
              "            console.error('Error during call to suggestCharts:', error);\n",
              "          }\n",
              "          quickchartButtonEl.classList.remove('colab-df-spinner');\n",
              "          quickchartButtonEl.classList.add('colab-df-quickchart-complete');\n",
              "        }\n",
              "        (() => {\n",
              "          let quickchartButtonEl =\n",
              "            document.querySelector('#df-b85f51c3-f9a3-418d-93a9-6f335d929604 button');\n",
              "          quickchartButtonEl.style.display =\n",
              "            google.colab.kernel.accessAllowed ? 'block' : 'none';\n",
              "        })();\n",
              "      </script>\n",
              "    </div>\n",
              "\n",
              "    </div>\n",
              "  </div>\n"
            ],
            "application/vnd.google.colaboratory.intrinsic+json": {
              "type": "dataframe",
              "variable_name": "combined_df_sk",
              "summary": "{\n  \"name\": \"combined_df_sk\",\n  \"rows\": 128,\n  \"fields\": [\n    {\n      \"column\": \"Year\",\n      \"properties\": {\n        \"dtype\": \"number\",\n        \"std\": 18,\n        \"min\": 1960,\n        \"max\": 2023,\n        \"num_unique_values\": 64,\n        \"samples\": [\n          2012,\n          2018,\n          1960\n        ],\n        \"semantic_type\": \"\",\n        \"description\": \"\"\n      }\n    },\n    {\n      \"column\": \"Country Name\",\n      \"properties\": {\n        \"dtype\": \"category\",\n        \"num_unique_values\": 2,\n        \"samples\": [\n          \"Korea, Rep.\",\n          \"China\"\n        ],\n        \"semantic_type\": \"\",\n        \"description\": \"\"\n      }\n    },\n    {\n      \"column\": \"Total Fertility Rate\",\n      \"properties\": {\n        \"dtype\": \"number\",\n        \"std\": 1.652541088342119,\n        \"min\": 0.721,\n        \"max\": 7.513,\n        \"num_unique_values\": 123,\n        \"samples\": [\n          4.447,\n          2.06\n        ],\n        \"semantic_type\": \"\",\n        \"description\": \"\"\n      }\n    },\n    {\n      \"column\": \"log_Fertility\",\n      \"properties\": {\n        \"dtype\": \"number\",\n        \"std\": 0.5811619692596066,\n        \"min\": -0.327116141697188,\n        \"max\": 2.0166348533870235,\n        \"num_unique_values\": 123,\n        \"samples\": [\n          1.4922297115285594,\n          0.7227059828014898\n        ],\n        \"semantic_type\": \"\",\n        \"description\": \"\"\n      }\n    },\n    {\n      \"column\": \"Treatment\",\n      \"properties\": {\n        \"dtype\": \"number\",\n        \"std\": 0,\n        \"min\": 0,\n        \"max\": 1,\n        \"num_unique_values\": 2,\n        \"samples\": [\n          0,\n          1\n        ],\n        \"semantic_type\": \"\",\n        \"description\": \"\"\n      }\n    },\n    {\n      \"column\": \"Post\",\n      \"properties\": {\n        \"dtype\": \"number\",\n        \"std\": 0,\n        \"min\": 0,\n        \"max\": 1,\n        \"num_unique_values\": 2,\n        \"samples\": [\n          1,\n          0\n        ],\n        \"semantic_type\": \"\",\n        \"description\": \"\"\n      }\n    },\n    {\n      \"column\": \"DiD\",\n      \"properties\": {\n        \"dtype\": \"number\",\n        \"std\": 0,\n        \"min\": 0,\n        \"max\": 1,\n        \"num_unique_values\": 2,\n        \"samples\": [\n          1,\n          0\n        ],\n        \"semantic_type\": \"\",\n        \"description\": \"\"\n      }\n    }\n  ]\n}"
            }
          },
          "metadata": {},
          "execution_count": 49
        }
      ]
    },
    {
      "cell_type": "markdown",
      "source": [
        "# Regression with log_Fertility"
      ],
      "metadata": {
        "id": "RZmEzGtkUAcM"
      }
    },
    {
      "cell_type": "code",
      "source": [
        "X = combined_df_sk[[\"Treatment\", \"Post\", \"DiD\"]]\n",
        "X = sm.add_constant(X)\n",
        "y = combined_df_sk[\"log_Fertility\"]\n",
        "\n",
        "model_sk = sm.OLS(y, X).fit()\n",
        "print(model_sk.summary())"
      ],
      "metadata": {
        "colab": {
          "base_uri": "https://localhost:8080/"
        },
        "id": "lqQzR9pch3cM",
        "outputId": "5c6e5438-b0bb-45cf-f477-b3270440bff6"
      },
      "execution_count": 52,
      "outputs": [
        {
          "output_type": "stream",
          "name": "stdout",
          "text": [
            "                            OLS Regression Results                            \n",
            "==============================================================================\n",
            "Dep. Variable:          log_Fertility   R-squared:                       0.762\n",
            "Model:                            OLS   Adj. R-squared:                  0.756\n",
            "Method:                 Least Squares   F-statistic:                     132.2\n",
            "Date:                Sun, 07 Sep 2025   Prob (F-statistic):           1.85e-38\n",
            "Time:                        04:02:28   Log-Likelihood:                -19.847\n",
            "No. Observations:                 128   AIC:                             47.69\n",
            "Df Residuals:                     124   BIC:                             59.10\n",
            "Df Model:                           3                                         \n",
            "Covariance Type:            nonrobust                                         \n",
            "==============================================================================\n",
            "                 coef    std err          t      P>|t|      [0.025      0.975]\n",
            "------------------------------------------------------------------------------\n",
            "const          1.4636      0.066     22.223      0.000       1.333       1.594\n",
            "Treatment      0.1346      0.093      1.445      0.151      -0.050       0.319\n",
            "Post          -1.1431      0.079    -14.554      0.000      -1.299      -0.988\n",
            "DiD            0.1376      0.111      1.239      0.218      -0.082       0.357\n",
            "==============================================================================\n",
            "Omnibus:                        0.048   Durbin-Watson:                   0.416\n",
            "Prob(Omnibus):                  0.976   Jarque-Bera (JB):                0.039\n",
            "Skew:                           0.033   Prob(JB):                        0.981\n",
            "Kurtosis:                       2.945   Cond. No.                         9.00\n",
            "==============================================================================\n",
            "\n",
            "Notes:\n",
            "[1] Standard Errors assume that the covariance matrix of the errors is correctly specified.\n"
          ]
        }
      ]
    },
    {
      "cell_type": "markdown",
      "source": [
        "# Regression with ma_Fertility"
      ],
      "metadata": {
        "id": "Au169OdaUI64"
      }
    },
    {
      "cell_type": "code",
      "source": [
        "combined_df_sk[\"ma_Fertility\"] = combined_df_sk[\"Total Fertility Rate\"].rolling(window=5).mean()\n",
        "combined_df_sk = combined_df_sk.dropna()"
      ],
      "metadata": {
        "id": "y_Bt5KZ1V0KJ"
      },
      "execution_count": 55,
      "outputs": []
    },
    {
      "cell_type": "code",
      "source": [
        "X = combined_df_sk[[\"Treatment\", \"Post\", \"DiD\"]]\n",
        "X = sm.add_constant(X)\n",
        "y = combined_df_sk[\"ma_Fertility\"]\n",
        "\n",
        "model_sk = sm.OLS(y, X).fit()\n",
        "print(model_sk.summary())"
      ],
      "metadata": {
        "colab": {
          "base_uri": "https://localhost:8080/"
        },
        "id": "0vf0IAh1UJzI",
        "outputId": "14e1be75-41df-489e-84fb-87b9991c30df"
      },
      "execution_count": 56,
      "outputs": [
        {
          "output_type": "stream",
          "name": "stdout",
          "text": [
            "                            OLS Regression Results                            \n",
            "==============================================================================\n",
            "Dep. Variable:           ma_Fertility   R-squared:                       0.830\n",
            "Model:                            OLS   Adj. R-squared:                  0.825\n",
            "Method:                 Least Squares   F-statistic:                     194.6\n",
            "Date:                Sun, 07 Sep 2025   Prob (F-statistic):           6.37e-46\n",
            "Time:                        04:37:43   Log-Likelihood:                -121.66\n",
            "No. Observations:                 124   AIC:                             251.3\n",
            "Df Residuals:                     120   BIC:                             262.6\n",
            "Df Model:                           3                                         \n",
            "Covariance Type:            nonrobust                                         \n",
            "==============================================================================\n",
            "                 coef    std err          t      P>|t|      [0.025      0.975]\n",
            "------------------------------------------------------------------------------\n",
            "const          4.7963      0.159     30.141      0.000       4.481       5.111\n",
            "Treatment      0.1915      0.225      0.851      0.396      -0.254       0.637\n",
            "Post          -3.1311      0.187    -16.763      0.000      -3.501      -2.761\n",
            "DiD           -0.1152      0.264     -0.436      0.664      -0.638       0.408\n",
            "==============================================================================\n",
            "Omnibus:                        7.341   Durbin-Watson:                   0.220\n",
            "Prob(Omnibus):                  0.025   Jarque-Bera (JB):                7.629\n",
            "Skew:                          -0.431   Prob(JB):                       0.0220\n",
            "Kurtosis:                       3.856   Cond. No.                         9.40\n",
            "==============================================================================\n",
            "\n",
            "Notes:\n",
            "[1] Standard Errors assume that the covariance matrix of the errors is correctly specified.\n"
          ]
        }
      ]
    },
    {
      "cell_type": "markdown",
      "source": [
        "The regressions performed from above average to moderately strong (R = 0.83). However, this alone does not confirm a causal relationship. Further work is needed to develop a more refined control variable that accurately simulates China in a counterfactual setting.\n",
        "\n",
        "While this is a nearly-impossible task, we will explore a method commonly used in social science research: Synthetic Control Method."
      ],
      "metadata": {
        "id": "ffoiqvs3eEry"
      }
    }
  ]
}